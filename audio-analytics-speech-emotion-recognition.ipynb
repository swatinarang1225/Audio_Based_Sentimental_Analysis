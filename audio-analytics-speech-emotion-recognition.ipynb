{
 "cells": [
  {
   "cell_type": "markdown",
   "metadata": {},
   "source": [
    "## A. Importing the required Libraries"
   ]
  },
  {
   "cell_type": "code",
   "execution_count": 1,
   "metadata": {
    "_cell_guid": "b1076dfc-b9ad-4769-8c92-a6c4dae69d19",
    "_uuid": "8f2839f25d086af736a60e9eeb907d3b93b6e0e5"
   },
   "outputs": [
    {
     "name": "stderr",
     "output_type": "stream",
     "text": [
      "Using TensorFlow backend.\n"
     ]
    }
   ],
   "source": [
    "import numpy as np # linear algebra\n",
    "import pandas as pd # data processing, CSV file I/O (e.g. pd.read_csv)\n",
    "import os # to use operating system dependent functionality\n",
    "import librosa # to extract speech features\n",
    "import wave # read and write WAV files\n",
    "import matplotlib.pyplot as plt # to generate the visualizations\n",
    "\n",
    "# MLP Classifier\n",
    "from sklearn.model_selection import train_test_split\n",
    "from sklearn.neural_network import MLPClassifier\n",
    "from sklearn.metrics import accuracy_score\n",
    "\n",
    "# LSTM Classifier\n",
    "import keras\n",
    "from keras.utils import to_categorical\n",
    "from keras.models import Sequential\n",
    "from keras.layers import *\n",
    "from keras.optimizers import rmsprop"
   ]
  },
  {
   "cell_type": "markdown",
   "metadata": {},
   "source": [
    "## B. Reading the Dataset & Feature Extraction"
   ]
  },
  {
   "cell_type": "code",
   "execution_count": 2,
   "metadata": {},
   "outputs": [],
   "source": [
    "def extract_mfcc(wav_file_name):\n",
    "    #This function extracts mfcc features and obtain the mean of each dimension\n",
    "    #Input : path_to_wav_file\n",
    "    #Output: mfcc_features'''\n",
    "    y, sr = librosa.load(wav_file_name)\n",
    "    mfccs = np.mean(librosa.feature.mfcc(y=y, sr=sr, n_mfcc=40).T,axis=0)\n",
    "    \n",
    "    return mfccs"
   ]
  },
  {
   "cell_type": "code",
   "execution_count": 3,
   "metadata": {},
   "outputs": [
    {
     "name": "stdout",
     "output_type": "stream",
     "text": [
      "Finish Loading the Dataset\n"
     ]
    }
   ],
   "source": [
    "##### load radvess speech dataset #####\n",
    "radvess_speech_labels = [] # to save extracted label/file\n",
    "ravdess_speech_data = [] # to save extracted features/file\n",
    "for dirname, _, filenames in os.walk('/kaggle/input/ravdess-emotional-speech-audio/'):\n",
    "    for filename in filenames:\n",
    "        #print(os.path.join(dirname, filename))\n",
    "        radvess_speech_labels.append(int(filename[7:8]) - 1) # the index 7 and 8 of the file name represent the emotion label\n",
    "        wav_file_name = os.path.join(dirname, filename)\n",
    "        ravdess_speech_data.append(extract_mfcc(wav_file_name)) # extract MFCC features/file\n",
    "        \n",
    "print(\"Finish Loading the Dataset\")"
   ]
  },
  {
   "cell_type": "code",
   "execution_count": null,
   "metadata": {},
   "outputs": [],
   "source": []
  },
  {
   "cell_type": "code",
   "execution_count": 4,
   "metadata": {},
   "outputs": [
    {
     "data": {
      "text/plain": [
       "(2880, 8)"
      ]
     },
     "execution_count": 4,
     "metadata": {},
     "output_type": "execute_result"
    }
   ],
   "source": [
    "#### convert data and label to array\n",
    "ravdess_speech_data_array = np.asarray(ravdess_speech_data) # convert the input to an array\n",
    "ravdess_speech_label_array = np.array(radvess_speech_labels)\n",
    "ravdess_speech_label_array.shape # get tuple of array dimensions\n",
    "\n",
    "#### make categorical labels\n",
    "labels_categorical = to_categorical(ravdess_speech_label_array) # converts a class vector (integers) to binary class matrix\n",
    "ravdess_speech_data_array.shape\n",
    "labels_categorical.shape"
   ]
  },
  {
   "cell_type": "markdown",
   "metadata": {},
   "source": [
    "## C. Train and Test MLP Classifier"
   ]
  },
  {
   "cell_type": "code",
   "execution_count": 5,
   "metadata": {},
   "outputs": [],
   "source": [
    "x_train,x_test,y_train,y_test= train_test_split(np.array(ravdess_speech_data_array),labels_categorical, test_size=0.20, random_state=9)"
   ]
  },
  {
   "cell_type": "code",
   "execution_count": 6,
   "metadata": {},
   "outputs": [],
   "source": [
    "# Initialize the Multi Layer Perceptron Classifier\n",
    "model=MLPClassifier(alpha=0.01, batch_size=256, epsilon=1e-08, hidden_layer_sizes=(300,), learning_rate='adaptive', max_iter=500)"
   ]
  },
  {
   "cell_type": "code",
   "execution_count": 7,
   "metadata": {},
   "outputs": [
    {
     "data": {
      "text/plain": [
       "MLPClassifier(activation='relu', alpha=0.01, batch_size=256, beta_1=0.9,\n",
       "              beta_2=0.999, early_stopping=False, epsilon=1e-08,\n",
       "              hidden_layer_sizes=(300,), learning_rate='adaptive',\n",
       "              learning_rate_init=0.001, max_fun=15000, max_iter=500,\n",
       "              momentum=0.9, n_iter_no_change=10, nesterovs_momentum=True,\n",
       "              power_t=0.5, random_state=None, shuffle=True, solver='adam',\n",
       "              tol=0.0001, validation_fraction=0.1, verbose=False,\n",
       "              warm_start=False)"
      ]
     },
     "execution_count": 7,
     "metadata": {},
     "output_type": "execute_result"
    }
   ],
   "source": [
    "# Train the model\n",
    "model.fit(x_train,y_train)"
   ]
  },
  {
   "cell_type": "code",
   "execution_count": 8,
   "metadata": {},
   "outputs": [],
   "source": [
    "# Predict for the test set\n",
    "y_pred=model.predict(x_test)"
   ]
  },
  {
   "cell_type": "code",
   "execution_count": 9,
   "metadata": {},
   "outputs": [
    {
     "name": "stdout",
     "output_type": "stream",
     "text": [
      "Accuracy: 49.31%\n"
     ]
    }
   ],
   "source": [
    "# Calculate the accuracy of our model\n",
    "accuracy=accuracy_score(y_true=y_test, y_pred=y_pred)\n",
    "# Print the accuracy\n",
    "print(\"Accuracy: {:.2f}%\".format(accuracy*100))"
   ]
  },
  {
   "cell_type": "code",
   "execution_count": 10,
   "metadata": {},
   "outputs": [],
   "source": [
    "# Split the training, validating, and testing sets\n",
    "number_of_samples = ravdess_speech_data_array.shape[0]\n",
    "training_samples = int(number_of_samples * 0.8)\n",
    "validation_samples = int(number_of_samples * 0.1)\n",
    "test_samples = int(number_of_samples * 0.1)"
   ]
  },
  {
   "cell_type": "code",
   "execution_count": 11,
   "metadata": {},
   "outputs": [],
   "source": [
    "# Define the LSTM model\n",
    "def create_model_LSTM():\n",
    "    model = Sequential()\n",
    "    model.add(LSTM(128, return_sequences=False, input_shape=(40, 1)))\n",
    "    model.add(Dense(64))\n",
    "    model.add(Dropout(0.4))\n",
    "    model.add(Activation('relu'))\n",
    "    model.add(Dense(32))\n",
    "    model.add(Dropout(0.4))\n",
    "    model.add(Activation('relu'))\n",
    "    model.add(Dense(8))\n",
    "    model.add(Activation('softmax'))\n",
    "    \n",
    "    # Configures the model for training\n",
    "    model.compile(loss='categorical_crossentropy', optimizer='Adam', metrics=['accuracy'])\n",
    "    return model"
   ]
  },
  {
   "cell_type": "code",
   "execution_count": 12,
   "metadata": {},
   "outputs": [
    {
     "name": "stdout",
     "output_type": "stream",
     "text": [
      "Train on 2304 samples, validate on 288 samples\n",
      "Epoch 1/100\n",
      "2304/2304 [==============================] - 3s 1ms/step - loss: 2.0730 - accuracy: 0.1419 - val_loss: 2.0373 - val_accuracy: 0.1493\n",
      "Epoch 2/100\n",
      "2304/2304 [==============================] - 3s 1ms/step - loss: 2.0074 - accuracy: 0.1957 - val_loss: 1.9865 - val_accuracy: 0.2014\n",
      "Epoch 3/100\n",
      "2304/2304 [==============================] - 3s 1ms/step - loss: 1.9618 - accuracy: 0.2209 - val_loss: 1.9600 - val_accuracy: 0.2118\n",
      "Epoch 4/100\n",
      "2304/2304 [==============================] - 3s 1ms/step - loss: 1.9162 - accuracy: 0.2591 - val_loss: 1.9767 - val_accuracy: 0.2326\n",
      "Epoch 5/100\n",
      "2304/2304 [==============================] - 3s 1ms/step - loss: 1.9062 - accuracy: 0.2496 - val_loss: 1.9149 - val_accuracy: 0.2500\n",
      "Epoch 6/100\n",
      "2304/2304 [==============================] - 3s 1ms/step - loss: 1.8705 - accuracy: 0.2773 - val_loss: 1.9179 - val_accuracy: 0.2604\n",
      "Epoch 7/100\n",
      "2304/2304 [==============================] - 3s 1ms/step - loss: 1.8407 - accuracy: 0.2799 - val_loss: 1.8798 - val_accuracy: 0.2778\n",
      "Epoch 8/100\n",
      "2304/2304 [==============================] - 3s 1ms/step - loss: 1.8158 - accuracy: 0.2964 - val_loss: 1.8969 - val_accuracy: 0.2361\n",
      "Epoch 9/100\n",
      "2304/2304 [==============================] - 3s 1ms/step - loss: 1.7922 - accuracy: 0.3073 - val_loss: 1.8968 - val_accuracy: 0.2361\n",
      "Epoch 10/100\n",
      "2304/2304 [==============================] - 3s 1ms/step - loss: 1.7847 - accuracy: 0.3108 - val_loss: 1.9357 - val_accuracy: 0.2431\n",
      "Epoch 11/100\n",
      "2304/2304 [==============================] - 3s 1ms/step - loss: 1.7671 - accuracy: 0.3151 - val_loss: 1.9077 - val_accuracy: 0.2222\n",
      "Epoch 12/100\n",
      "2304/2304 [==============================] - 3s 1ms/step - loss: 1.7770 - accuracy: 0.3025 - val_loss: 1.8809 - val_accuracy: 0.2674\n",
      "Epoch 13/100\n",
      "2304/2304 [==============================] - 3s 1ms/step - loss: 1.7540 - accuracy: 0.3255 - val_loss: 1.8806 - val_accuracy: 0.2396\n",
      "Epoch 14/100\n",
      "2304/2304 [==============================] - 3s 1ms/step - loss: 1.7284 - accuracy: 0.3346 - val_loss: 1.9125 - val_accuracy: 0.2708\n",
      "Epoch 15/100\n",
      "2304/2304 [==============================] - 3s 1ms/step - loss: 1.7315 - accuracy: 0.3286 - val_loss: 1.9438 - val_accuracy: 0.2222\n",
      "Epoch 16/100\n",
      "2304/2304 [==============================] - 3s 1ms/step - loss: 1.7270 - accuracy: 0.3398 - val_loss: 1.8959 - val_accuracy: 0.2604\n",
      "Epoch 17/100\n",
      "2304/2304 [==============================] - 3s 1ms/step - loss: 1.6584 - accuracy: 0.3446 - val_loss: 1.9957 - val_accuracy: 0.2292\n",
      "Epoch 18/100\n",
      "2304/2304 [==============================] - 3s 1ms/step - loss: 1.6479 - accuracy: 0.3572 - val_loss: 1.8745 - val_accuracy: 0.2569\n",
      "Epoch 19/100\n",
      "2304/2304 [==============================] - 3s 1ms/step - loss: 1.6410 - accuracy: 0.3650 - val_loss: 1.9554 - val_accuracy: 0.1979\n",
      "Epoch 20/100\n",
      "2304/2304 [==============================] - 3s 1ms/step - loss: 1.6068 - accuracy: 0.3759 - val_loss: 1.9822 - val_accuracy: 0.2361\n",
      "Epoch 21/100\n",
      "2304/2304 [==============================] - 3s 1ms/step - loss: 1.6035 - accuracy: 0.3802 - val_loss: 1.9035 - val_accuracy: 0.2604\n",
      "Epoch 22/100\n",
      "2304/2304 [==============================] - 3s 1ms/step - loss: 1.5510 - accuracy: 0.3976 - val_loss: 1.9628 - val_accuracy: 0.2778\n",
      "Epoch 23/100\n",
      "2304/2304 [==============================] - 3s 1ms/step - loss: 1.5420 - accuracy: 0.3854 - val_loss: 2.0205 - val_accuracy: 0.2431\n",
      "Epoch 24/100\n",
      "2304/2304 [==============================] - 3s 1ms/step - loss: 1.4882 - accuracy: 0.4193 - val_loss: 1.9831 - val_accuracy: 0.2500\n",
      "Epoch 25/100\n",
      "2304/2304 [==============================] - 3s 1ms/step - loss: 1.4774 - accuracy: 0.4297 - val_loss: 2.1396 - val_accuracy: 0.2118\n",
      "Epoch 26/100\n",
      "2304/2304 [==============================] - 3s 1ms/step - loss: 1.4695 - accuracy: 0.4253 - val_loss: 1.9770 - val_accuracy: 0.2708\n",
      "Epoch 27/100\n",
      "2304/2304 [==============================] - 3s 1ms/step - loss: 1.4315 - accuracy: 0.4544 - val_loss: 1.9483 - val_accuracy: 0.2465\n",
      "Epoch 28/100\n",
      "2304/2304 [==============================] - 3s 1ms/step - loss: 1.4248 - accuracy: 0.4570 - val_loss: 2.1000 - val_accuracy: 0.2292\n",
      "Epoch 29/100\n",
      "2304/2304 [==============================] - 3s 1ms/step - loss: 1.3840 - accuracy: 0.4644 - val_loss: 2.0123 - val_accuracy: 0.2986\n",
      "Epoch 30/100\n",
      "2304/2304 [==============================] - 3s 1ms/step - loss: 1.3459 - accuracy: 0.4688 - val_loss: 2.1167 - val_accuracy: 0.2257\n",
      "Epoch 31/100\n",
      "2304/2304 [==============================] - 3s 1ms/step - loss: 1.3591 - accuracy: 0.4783 - val_loss: 2.0204 - val_accuracy: 0.2708\n",
      "Epoch 32/100\n",
      "2304/2304 [==============================] - 3s 1ms/step - loss: 1.2707 - accuracy: 0.5061 - val_loss: 2.2069 - val_accuracy: 0.2743\n",
      "Epoch 33/100\n",
      "2304/2304 [==============================] - 3s 1ms/step - loss: 1.2504 - accuracy: 0.5078 - val_loss: 2.2459 - val_accuracy: 0.2778\n",
      "Epoch 34/100\n",
      "2304/2304 [==============================] - 3s 1ms/step - loss: 1.2565 - accuracy: 0.4991 - val_loss: 2.1666 - val_accuracy: 0.2743\n",
      "Epoch 35/100\n",
      "2304/2304 [==============================] - 3s 1ms/step - loss: 1.2132 - accuracy: 0.5187 - val_loss: 2.2487 - val_accuracy: 0.2500\n",
      "Epoch 36/100\n",
      "2304/2304 [==============================] - 3s 1ms/step - loss: 1.1781 - accuracy: 0.5538 - val_loss: 2.4134 - val_accuracy: 0.2431\n",
      "Epoch 37/100\n",
      "2304/2304 [==============================] - 3s 1ms/step - loss: 1.1016 - accuracy: 0.5794 - val_loss: 2.5210 - val_accuracy: 0.2604\n",
      "Epoch 38/100\n",
      "2304/2304 [==============================] - 3s 1ms/step - loss: 1.0755 - accuracy: 0.5855 - val_loss: 2.5929 - val_accuracy: 0.2778\n",
      "Epoch 39/100\n",
      "2304/2304 [==============================] - 3s 1ms/step - loss: 1.1106 - accuracy: 0.5699 - val_loss: 2.4529 - val_accuracy: 0.2743\n",
      "Epoch 40/100\n",
      "2304/2304 [==============================] - 3s 1ms/step - loss: 1.0415 - accuracy: 0.6094 - val_loss: 2.7134 - val_accuracy: 0.2604\n",
      "Epoch 41/100\n",
      "2304/2304 [==============================] - 3s 1ms/step - loss: 1.0127 - accuracy: 0.6159 - val_loss: 2.7915 - val_accuracy: 0.2743\n",
      "Epoch 42/100\n",
      "2304/2304 [==============================] - 3s 1ms/step - loss: 0.9510 - accuracy: 0.6324 - val_loss: 3.0014 - val_accuracy: 0.2326\n",
      "Epoch 43/100\n",
      "2304/2304 [==============================] - 3s 1ms/step - loss: 0.9495 - accuracy: 0.6411 - val_loss: 2.9038 - val_accuracy: 0.2778\n",
      "Epoch 44/100\n",
      "2304/2304 [==============================] - 3s 1ms/step - loss: 0.9219 - accuracy: 0.6580 - val_loss: 3.0794 - val_accuracy: 0.2604\n",
      "Epoch 45/100\n",
      "2304/2304 [==============================] - 3s 1ms/step - loss: 0.8774 - accuracy: 0.6576 - val_loss: 2.7498 - val_accuracy: 0.2569\n",
      "Epoch 46/100\n",
      "2304/2304 [==============================] - 3s 1ms/step - loss: 0.8746 - accuracy: 0.6714 - val_loss: 3.3213 - val_accuracy: 0.3194\n",
      "Epoch 47/100\n",
      "2304/2304 [==============================] - 3s 1ms/step - loss: 0.7995 - accuracy: 0.7062 - val_loss: 3.2717 - val_accuracy: 0.2604\n",
      "Epoch 48/100\n",
      "2304/2304 [==============================] - 3s 1ms/step - loss: 0.7433 - accuracy: 0.7127 - val_loss: 3.5563 - val_accuracy: 0.2222\n",
      "Epoch 49/100\n",
      "2304/2304 [==============================] - 3s 1ms/step - loss: 0.8135 - accuracy: 0.7010 - val_loss: 3.2007 - val_accuracy: 0.2431\n",
      "Epoch 50/100\n",
      "2304/2304 [==============================] - 3s 1ms/step - loss: 0.7747 - accuracy: 0.7018 - val_loss: 3.4730 - val_accuracy: 0.2500\n",
      "Epoch 51/100\n",
      "2304/2304 [==============================] - 3s 1ms/step - loss: 0.6868 - accuracy: 0.7478 - val_loss: 3.7929 - val_accuracy: 0.2778\n",
      "Epoch 52/100\n",
      "2304/2304 [==============================] - 3s 1ms/step - loss: 0.6432 - accuracy: 0.7691 - val_loss: 3.8930 - val_accuracy: 0.2708\n",
      "Epoch 53/100\n",
      "2304/2304 [==============================] - 3s 1ms/step - loss: 0.6266 - accuracy: 0.7617 - val_loss: 4.0661 - val_accuracy: 0.2639\n",
      "Epoch 54/100\n",
      "2304/2304 [==============================] - 3s 1ms/step - loss: 0.5484 - accuracy: 0.8030 - val_loss: 4.1455 - val_accuracy: 0.3021\n",
      "Epoch 55/100\n",
      "2304/2304 [==============================] - 3s 1ms/step - loss: 0.6200 - accuracy: 0.7878 - val_loss: 3.9795 - val_accuracy: 0.2465\n",
      "Epoch 56/100\n",
      "2304/2304 [==============================] - 3s 1ms/step - loss: 0.7722 - accuracy: 0.7296 - val_loss: 3.9554 - val_accuracy: 0.2708\n",
      "Epoch 57/100\n",
      "2304/2304 [==============================] - 3s 1ms/step - loss: 0.6572 - accuracy: 0.7635 - val_loss: 3.9699 - val_accuracy: 0.2500\n",
      "Epoch 58/100\n",
      "2304/2304 [==============================] - 3s 1ms/step - loss: 0.6032 - accuracy: 0.7930 - val_loss: 4.1457 - val_accuracy: 0.2778\n",
      "Epoch 59/100\n",
      "2304/2304 [==============================] - 3s 1ms/step - loss: 0.4439 - accuracy: 0.8333 - val_loss: 4.9254 - val_accuracy: 0.2812\n",
      "Epoch 60/100\n",
      "2304/2304 [==============================] - 3s 1ms/step - loss: 0.4644 - accuracy: 0.8411 - val_loss: 4.5388 - val_accuracy: 0.2708\n",
      "Epoch 61/100\n",
      "2304/2304 [==============================] - 3s 1ms/step - loss: 0.4460 - accuracy: 0.8433 - val_loss: 4.9515 - val_accuracy: 0.2535\n",
      "Epoch 62/100\n",
      "2304/2304 [==============================] - 3s 1ms/step - loss: 0.4682 - accuracy: 0.8385 - val_loss: 4.8138 - val_accuracy: 0.2500\n",
      "Epoch 63/100\n",
      "2304/2304 [==============================] - 3s 1ms/step - loss: 0.5270 - accuracy: 0.8238 - val_loss: 4.8826 - val_accuracy: 0.2500\n",
      "Epoch 64/100\n",
      "2304/2304 [==============================] - 3s 1ms/step - loss: 0.4585 - accuracy: 0.8455 - val_loss: 4.7258 - val_accuracy: 0.2743\n",
      "Epoch 65/100\n",
      "2304/2304 [==============================] - 3s 1ms/step - loss: 0.3513 - accuracy: 0.8754 - val_loss: 5.4120 - val_accuracy: 0.2674\n",
      "Epoch 66/100\n",
      "2304/2304 [==============================] - 3s 1ms/step - loss: 0.3433 - accuracy: 0.8798 - val_loss: 5.1943 - val_accuracy: 0.2639\n",
      "Epoch 67/100\n",
      "2304/2304 [==============================] - 3s 1ms/step - loss: 0.3331 - accuracy: 0.8872 - val_loss: 5.3821 - val_accuracy: 0.2743\n",
      "Epoch 68/100\n",
      "2304/2304 [==============================] - 3s 1ms/step - loss: 0.4735 - accuracy: 0.8477 - val_loss: 5.5468 - val_accuracy: 0.2882\n",
      "Epoch 69/100\n",
      "2304/2304 [==============================] - 3s 1ms/step - loss: 0.3518 - accuracy: 0.8811 - val_loss: 5.7589 - val_accuracy: 0.2708\n",
      "Epoch 70/100\n",
      "2304/2304 [==============================] - 3s 1ms/step - loss: 0.3922 - accuracy: 0.8698 - val_loss: 5.3565 - val_accuracy: 0.2986\n",
      "Epoch 71/100\n",
      "2304/2304 [==============================] - 3s 1ms/step - loss: 0.3809 - accuracy: 0.8741 - val_loss: 5.3695 - val_accuracy: 0.2743\n",
      "Epoch 72/100\n",
      "2304/2304 [==============================] - 3s 1ms/step - loss: 0.3373 - accuracy: 0.8898 - val_loss: 5.4969 - val_accuracy: 0.2882\n",
      "Epoch 73/100\n",
      "2304/2304 [==============================] - 3s 1ms/step - loss: 0.7440 - accuracy: 0.8138 - val_loss: 4.5847 - val_accuracy: 0.2604\n",
      "Epoch 74/100\n",
      "2304/2304 [==============================] - 3s 1ms/step - loss: 0.3330 - accuracy: 0.8971 - val_loss: 5.3095 - val_accuracy: 0.2743\n",
      "Epoch 75/100\n",
      "2304/2304 [==============================] - 3s 1ms/step - loss: 0.2560 - accuracy: 0.9136 - val_loss: 5.6941 - val_accuracy: 0.2847\n",
      "Epoch 76/100\n",
      "2304/2304 [==============================] - 3s 1ms/step - loss: 0.2027 - accuracy: 0.9310 - val_loss: 5.9810 - val_accuracy: 0.3090\n",
      "Epoch 77/100\n",
      "2304/2304 [==============================] - 3s 1ms/step - loss: 0.1922 - accuracy: 0.9427 - val_loss: 6.0049 - val_accuracy: 0.2708\n",
      "Epoch 78/100\n",
      "2304/2304 [==============================] - 3s 1ms/step - loss: 0.1598 - accuracy: 0.9510 - val_loss: 6.2937 - val_accuracy: 0.2674\n",
      "Epoch 79/100\n",
      "2304/2304 [==============================] - 3s 1ms/step - loss: 0.2290 - accuracy: 0.9262 - val_loss: 6.6097 - val_accuracy: 0.2882\n",
      "Epoch 80/100\n",
      "2304/2304 [==============================] - 3s 1ms/step - loss: 0.2224 - accuracy: 0.9375 - val_loss: 7.0373 - val_accuracy: 0.2847\n",
      "Epoch 81/100\n",
      "2304/2304 [==============================] - 3s 1ms/step - loss: 0.5548 - accuracy: 0.8563 - val_loss: 5.8842 - val_accuracy: 0.2396\n",
      "Epoch 82/100\n",
      "2304/2304 [==============================] - 3s 1ms/step - loss: 0.3310 - accuracy: 0.8984 - val_loss: 6.1609 - val_accuracy: 0.2604\n",
      "Epoch 83/100\n",
      "2304/2304 [==============================] - 3s 1ms/step - loss: 0.2611 - accuracy: 0.9266 - val_loss: 6.1514 - val_accuracy: 0.2639\n",
      "Epoch 84/100\n",
      "2304/2304 [==============================] - 3s 1ms/step - loss: 0.2226 - accuracy: 0.9284 - val_loss: 6.8469 - val_accuracy: 0.2639\n",
      "Epoch 85/100\n",
      "2304/2304 [==============================] - 3s 1ms/step - loss: 0.1359 - accuracy: 0.9605 - val_loss: 6.7935 - val_accuracy: 0.2743\n",
      "Epoch 86/100\n",
      "2304/2304 [==============================] - 3s 1ms/step - loss: 0.1631 - accuracy: 0.9562 - val_loss: 7.0817 - val_accuracy: 0.2951\n",
      "Epoch 87/100\n",
      "2304/2304 [==============================] - 3s 1ms/step - loss: 0.1944 - accuracy: 0.9449 - val_loss: 6.9752 - val_accuracy: 0.2500\n",
      "Epoch 88/100\n",
      "2304/2304 [==============================] - 3s 1ms/step - loss: 0.1111 - accuracy: 0.9731 - val_loss: 7.2460 - val_accuracy: 0.2674\n",
      "Epoch 89/100\n",
      "2304/2304 [==============================] - 3s 1ms/step - loss: 0.1110 - accuracy: 0.9648 - val_loss: 8.1144 - val_accuracy: 0.2708\n",
      "Epoch 90/100\n",
      "2304/2304 [==============================] - 3s 1ms/step - loss: 0.1845 - accuracy: 0.9510 - val_loss: 7.0381 - val_accuracy: 0.2812\n",
      "Epoch 91/100\n",
      "2304/2304 [==============================] - 3s 1ms/step - loss: 0.1607 - accuracy: 0.9423 - val_loss: 6.9474 - val_accuracy: 0.2951\n",
      "Epoch 92/100\n",
      "2304/2304 [==============================] - 3s 1ms/step - loss: 0.2230 - accuracy: 0.9310 - val_loss: 6.5340 - val_accuracy: 0.2882\n",
      "Epoch 93/100\n",
      "2304/2304 [==============================] - 3s 1ms/step - loss: 0.2481 - accuracy: 0.9314 - val_loss: 6.9457 - val_accuracy: 0.2674\n",
      "Epoch 94/100\n",
      "2304/2304 [==============================] - 3s 1ms/step - loss: 0.1609 - accuracy: 0.9553 - val_loss: 7.2467 - val_accuracy: 0.2917\n",
      "Epoch 95/100\n",
      "2304/2304 [==============================] - 3s 1ms/step - loss: 0.1166 - accuracy: 0.9648 - val_loss: 7.6013 - val_accuracy: 0.2708\n",
      "Epoch 96/100\n",
      "2304/2304 [==============================] - 3s 1ms/step - loss: 0.2168 - accuracy: 0.9418 - val_loss: 7.4090 - val_accuracy: 0.2743\n",
      "Epoch 97/100\n",
      "2304/2304 [==============================] - 3s 1ms/step - loss: 0.2735 - accuracy: 0.9301 - val_loss: 6.9077 - val_accuracy: 0.2708\n",
      "Epoch 98/100\n",
      "2304/2304 [==============================] - 3s 1ms/step - loss: 0.1616 - accuracy: 0.9575 - val_loss: 6.6380 - val_accuracy: 0.2569\n",
      "Epoch 99/100\n",
      "2304/2304 [==============================] - 3s 1ms/step - loss: 0.2515 - accuracy: 0.9314 - val_loss: 7.0832 - val_accuracy: 0.3090\n",
      "Epoch 100/100\n",
      "2304/2304 [==============================] - 3s 1ms/step - loss: 0.5842 - accuracy: 0.8542 - val_loss: 5.2517 - val_accuracy: 0.2431\n"
     ]
    }
   ],
   "source": [
    "### train using LSTM model\n",
    "model_A = create_model_LSTM()\n",
    "history = model_A.fit(np.expand_dims(ravdess_speech_data_array[:training_samples],-1), labels_categorical[:training_samples], validation_data=(np.expand_dims(ravdess_speech_data_array[training_samples:training_samples+validation_samples], -1), labels_categorical[training_samples:training_samples+validation_samples]), epochs=100, shuffle=True)"
   ]
  },
  {
   "cell_type": "code",
   "execution_count": 13,
   "metadata": {},
   "outputs": [
    {
     "data": {
      "image/png": "[encoded data removed]",
      "text/plain": [
       "<Figure size 432x288 with 1 Axes>"
      ]
     },
     "metadata": {
      "needs_background": "light"
     },
     "output_type": "display_data"
    }
   ],
   "source": [
    "### loss plots using LSTM model\n",
    "loss = history.history['loss']\n",
    "val_loss = history.history['val_loss']\n",
    "\n",
    "epochs = range(1, len(loss) + 1)\n",
    "\n",
    "plt.plot(epochs, loss, 'ro', label='Training loss')\n",
    "plt.plot(epochs, val_loss, 'b', label='Validation loss')\n",
    "plt.title('Training and validation loss')\n",
    "plt.xlabel('Epochs')\n",
    "plt.ylabel('Loss')\n",
    "plt.legend()\n",
    "\n",
    "plt.show()"
   ]
  },
  {
   "cell_type": "code",
   "execution_count": 14,
   "metadata": {},
   "outputs": [
    {
     "data": {
      "image/png": "[encoded data removed]",
      "text/plain": [
       "<Figure size 432x288 with 1 Axes>"
      ]
     },
     "metadata": {
      "needs_background": "light"
     },
     "output_type": "display_data"
    }
   ],
   "source": [
    "### accuracy plots using LSTM model\n",
    "plt.clf()                                                \n",
    "\n",
    "acc = history.history['accuracy']\n",
    "val_acc = history.history['val_accuracy']\n",
    "\n",
    "plt.plot(epochs, acc, 'ro', label='Training acc')\n",
    "plt.plot(epochs, val_acc, 'b', label='Validation acc')\n",
    "plt.title('Training and validation accuracy')\n",
    "plt.xlabel('Epochs')\n",
    "plt.ylabel('Loss')\n",
    "plt.legend()\n",
    "\n",
    "plt.show()"
   ]
  },
  {
   "cell_type": "code",
   "execution_count": 15,
   "metadata": {},
   "outputs": [
    {
     "name": "stdout",
     "output_type": "stream",
     "text": [
      "288/288 [==============================] - 0s 276us/step\n"
     ]
    },
    {
     "data": {
      "text/plain": [
       "[5.231356249915229, 0.2569444477558136]"
      ]
     },
     "execution_count": 15,
     "metadata": {},
     "output_type": "execute_result"
    }
   ],
   "source": [
    "### evaluate using model A\n",
    "model_A.evaluate(np.expand_dims(ravdess_speech_data_array[training_samples + validation_samples:], -1), labels_categorical[training_samples + validation_samples:])"
   ]
  }
 ],
 "metadata": {
  "kernelspec": {
   "display_name": "Python 3",
   "language": "python",
   "name": "python3"
  },
  "language_info": {
   "codemirror_mode": {
    "name": "ipython",
    "version": 3
   },
   "file_extension": ".py",
   "mimetype": "text/x-python",
   "name": "python",
   "nbconvert_exporter": "python",
   "pygments_lexer": "ipython3",
   "version": "3.6.6"
  }
 },
 "nbformat": 4,
 "nbformat_minor": 4
}
